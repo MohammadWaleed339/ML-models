{
 "cells": [
  {
   "cell_type": "code",
   "execution_count": 2,
   "id": "e0719aa9-732c-4f2d-b468-c8505f11c950",
   "metadata": {},
   "outputs": [],
   "source": []
  },
  {
   "cell_type": "code",
   "execution_count": 2,
   "id": "36a97c3f-e8b0-48ea-b9a5-c6ec09245600",
   "metadata": {},
   "outputs": [],
   "source": [
    "from bs4 import BeautifulSoup\n",
    "import requests"
   ]
  },
  {
   "cell_type": "code",
   "execution_count": 12,
   "id": "10b64d1d-96c5-47f9-9e95-c57aea353bdc",
   "metadata": {},
   "outputs": [],
   "source": [
    "url = 'https://theoutsideinvestor.net/us-vs-india-top-companies'\n",
    "\n",
    "page = requests.get(url)\n",
    "html_code = BeautifulSoup(page.text, 'html')\n"
   ]
  },
  {
   "cell_type": "code",
   "execution_count": 6,
   "id": "01e8c01d-3ec8-4831-a5fc-075bafd9da0c",
   "metadata": {},
   "outputs": [],
   "source": [
    "tables = html_code.find_all('table')"
   ]
  },
  {
   "cell_type": "code",
   "execution_count": 19,
   "id": "07123923-4dba-4772-8773-a0224f6ef9d8",
   "metadata": {},
   "outputs": [],
   "source": [
    "table_us = tables[0]\n",
    "table_india = tables[1]\n",
    "\n"
   ]
  },
  {
   "cell_type": "code",
   "execution_count": 59,
   "id": "62dc0504-9639-481e-a17f-3281fbedfcc7",
   "metadata": {},
   "outputs": [
    {
     "data": {
      "text/plain": [
       "['Rank', 'Company Name', 'Sector', 'Market Capitalization (in Billions USD)']"
      ]
     },
     "execution_count": 59,
     "metadata": {},
     "output_type": "execute_result"
    }
   ],
   "source": [
    "title_ind = table_india.find_all('th')\n",
    "table_title_ind = [title.text.strip() for title in title_ind]\n",
    "table_title_ind"
   ]
  },
  {
   "cell_type": "code",
   "execution_count": 105,
   "id": "8cea3eaf-9fba-4e9e-9e55-0170a52e9914",
   "metadata": {},
   "outputs": [
    {
     "data": {
      "text/plain": [
       "['10', 'Sun Pharmaceutical Industries Ltd', 'Pharmaceuticals', '$50']"
      ]
     },
     "execution_count": 105,
     "metadata": {},
     "output_type": "execute_result"
    }
   ],
   "source": [
    "import pandas as pd\n",
    "df_ind = pd.DataFrame(columns=table_title_ind)\n"
   ]
  },
  {
   "cell_type": "code",
   "execution_count": 117,
   "id": "fcd842e6-8218-46f0-9021-2e22dcc2a803",
   "metadata": {},
   "outputs": [],
   "source": [
    "row_data_ind = table_india.find_all('tr')\n",
    "\n",
    "for data in row_data_ind[1:]:\n",
    "    ind_data = data.find_all('td')\n",
    "    ind_val = [data.text.strip() for data in ind_data]\n",
    "\n",
    "    length = len(df_ind)\n",
    "    df_ind.loc[length] = ind_val\n"
   ]
  },
  {
   "cell_type": "code",
   "execution_count": 118,
   "id": "74169e62-bcf5-4377-ae70-e2351707149d",
   "metadata": {},
   "outputs": [],
   "source": [
    "title_us = table_us.find_all('th')\n",
    "table_title_us = [th.text.strip() for th in title_us]\n"
   ]
  },
  {
   "cell_type": "code",
   "execution_count": 119,
   "id": "e2f4af66-f0d4-4b15-a1f1-7ab2698177bb",
   "metadata": {},
   "outputs": [],
   "source": [
    "df_us = pd.DataFrame(columns = table_title_us)\n"
   ]
  },
  {
   "cell_type": "code",
   "execution_count": 120,
   "id": "cbad06f5-ca15-43e1-be6e-f713e463086c",
   "metadata": {},
   "outputs": [
    {
     "data": {
      "text/html": [
       "<div>\n",
       "<style scoped>\n",
       "    .dataframe tbody tr th:only-of-type {\n",
       "        vertical-align: middle;\n",
       "    }\n",
       "\n",
       "    .dataframe tbody tr th {\n",
       "        vertical-align: top;\n",
       "    }\n",
       "\n",
       "    .dataframe thead th {\n",
       "        text-align: right;\n",
       "    }\n",
       "</style>\n",
       "<table border=\"1\" class=\"dataframe\">\n",
       "  <thead>\n",
       "    <tr style=\"text-align: right;\">\n",
       "      <th></th>\n",
       "      <th>Rank</th>\n",
       "      <th>Company Name</th>\n",
       "      <th>Sector</th>\n",
       "      <th>Market Capitalization (in Billions USD)</th>\n",
       "    </tr>\n",
       "  </thead>\n",
       "  <tbody>\n",
       "    <tr>\n",
       "      <th>0</th>\n",
       "      <td>1</td>\n",
       "      <td>Reliance Industries Ltd</td>\n",
       "      <td>Conglomerate</td>\n",
       "      <td>$200</td>\n",
       "    </tr>\n",
       "    <tr>\n",
       "      <th>1</th>\n",
       "      <td>2</td>\n",
       "      <td>Tata Consultancy Services Ltd (TCS)</td>\n",
       "      <td>Information Technology</td>\n",
       "      <td>$177</td>\n",
       "    </tr>\n",
       "    <tr>\n",
       "      <th>2</th>\n",
       "      <td>3</td>\n",
       "      <td>Bharti Airtel Ltd</td>\n",
       "      <td>Telecommunications</td>\n",
       "      <td>$109</td>\n",
       "    </tr>\n",
       "    <tr>\n",
       "      <th>3</th>\n",
       "      <td>4</td>\n",
       "      <td>State Bank of India (SBI)</td>\n",
       "      <td>Banking</td>\n",
       "      <td>$85</td>\n",
       "    </tr>\n",
       "    <tr>\n",
       "      <th>4</th>\n",
       "      <td>5</td>\n",
       "      <td>ITC Ltd</td>\n",
       "      <td>Consumer Goods</td>\n",
       "      <td>$69</td>\n",
       "    </tr>\n",
       "    <tr>\n",
       "      <th>5</th>\n",
       "      <td>6</td>\n",
       "      <td>Hindustan Unilever Ltd (HUL)</td>\n",
       "      <td>Consumer Goods</td>\n",
       "      <td>$68</td>\n",
       "    </tr>\n",
       "    <tr>\n",
       "      <th>6</th>\n",
       "      <td>7</td>\n",
       "      <td>Life Insurance Corporation of India</td>\n",
       "      <td>Insurance</td>\n",
       "      <td>$67</td>\n",
       "    </tr>\n",
       "    <tr>\n",
       "      <th>7</th>\n",
       "      <td>8</td>\n",
       "      <td>HCL Technologies Ltd</td>\n",
       "      <td>Information Technology</td>\n",
       "      <td>$59</td>\n",
       "    </tr>\n",
       "    <tr>\n",
       "      <th>8</th>\n",
       "      <td>9</td>\n",
       "      <td>Larsen and Toubro Ltd</td>\n",
       "      <td>Engineering &amp; Construction</td>\n",
       "      <td>$57</td>\n",
       "    </tr>\n",
       "    <tr>\n",
       "      <th>9</th>\n",
       "      <td>10</td>\n",
       "      <td>Sun Pharmaceutical Industries Ltd</td>\n",
       "      <td>Pharmaceuticals</td>\n",
       "      <td>$50</td>\n",
       "    </tr>\n",
       "  </tbody>\n",
       "</table>\n",
       "</div>"
      ],
      "text/plain": [
       "  Rank                         Company Name                      Sector  \\\n",
       "0    1              Reliance Industries Ltd                Conglomerate   \n",
       "1    2  Tata Consultancy Services Ltd (TCS)      Information Technology   \n",
       "2    3                    Bharti Airtel Ltd          Telecommunications   \n",
       "3    4            State Bank of India (SBI)                     Banking   \n",
       "4    5                              ITC Ltd              Consumer Goods   \n",
       "5    6         Hindustan Unilever Ltd (HUL)              Consumer Goods   \n",
       "6    7  Life Insurance Corporation of India                   Insurance   \n",
       "7    8                 HCL Technologies Ltd      Information Technology   \n",
       "8    9                Larsen and Toubro Ltd  Engineering & Construction   \n",
       "9   10    Sun Pharmaceutical Industries Ltd             Pharmaceuticals   \n",
       "\n",
       "  Market Capitalization (in Billions USD)  \n",
       "0                                    $200  \n",
       "1                                    $177  \n",
       "2                                    $109  \n",
       "3                                     $85  \n",
       "4                                     $69  \n",
       "5                                     $68  \n",
       "6                                     $67  \n",
       "7                                     $59  \n",
       "8                                     $57  \n",
       "9                                     $50  "
      ]
     },
     "execution_count": 120,
     "metadata": {},
     "output_type": "execute_result"
    }
   ],
   "source": [
    "row_data_us = table_us.find_all('tr')\n",
    "\n",
    "for data in row_data_us[1:]:\n",
    "    us_data = data.find_all('td')\n",
    "    us_data_table = [data.text.strip() for data in us_data]\n",
    "\n",
    "    length_us = len(df_us)\n",
    "    df_us.loc[length_us] = us_data_table\n",
    "df_us\n",
    "df_ind"
   ]
  },
  {
   "cell_type": "code",
   "execution_count": null,
   "id": "17605948-bcf7-4949-99ec-27498bb973b3",
   "metadata": {},
   "outputs": [],
   "source": []
  },
  {
   "cell_type": "code",
   "execution_count": 124,
   "id": "29e2ff3a-af4e-4a07-a826-5524443abaae",
   "metadata": {},
   "outputs": [],
   "source": [
    "df_us.to_csv(r'C:/Users/HP/Desktop/Data sets/pytn_wb_scrpng/com_data_us.csv', index = False)"
   ]
  },
  {
   "cell_type": "code",
   "execution_count": null,
   "id": "74c35759-4c28-4c86-88a7-0c54cc0ce776",
   "metadata": {},
   "outputs": [],
   "source": []
  }
 ],
 "metadata": {
  "kernelspec": {
   "display_name": "Python 3 (ipykernel)",
   "language": "python",
   "name": "python3"
  },
  "language_info": {
   "codemirror_mode": {
    "name": "ipython",
    "version": 3
   },
   "file_extension": ".py",
   "mimetype": "text/x-python",
   "name": "python",
   "nbconvert_exporter": "python",
   "pygments_lexer": "ipython3",
   "version": "3.13.1"
  }
 },
 "nbformat": 4,
 "nbformat_minor": 5
}
