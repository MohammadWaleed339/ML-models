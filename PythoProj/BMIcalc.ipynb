{
 "cells": [
  {
   "cell_type": "markdown",
   "id": "993eaef3-42b1-45e0-b6cd-3bfcf9314d7d",
   "metadata": {},
   "source": [
    "BMI calculator\n"
   ]
  },
  {
   "cell_type": "code",
   "execution_count": 22,
   "id": "02755e4e-8f43-4c78-91e8-ce46e3c6223f",
   "metadata": {},
   "outputs": [
    {
     "name": "stdin",
     "output_type": "stream",
     "text": [
      "Enter your weigth in pounds -577\n",
      "Enter your height in inhes 56\n"
     ]
    },
    {
     "name": "stdout",
     "output_type": "stream",
     "text": [
      "your BMI is:  -129.3466198979592\n",
      "Enter correct values!\n"
     ]
    }
   ],
   "source": [
    "#BMI = (\"weight in pound\")/ (\"height in inches * height in inches\")\n",
    "\n",
    "weight = int(input(\"Enter your weigth in pounds\"))\n",
    "height = int(input(\"Enter your height in inhes\"))\n",
    "\n",
    "bmi = weight*703/(height*height)\n",
    "\n",
    "print(\"your BMI is: \", bmi)\n",
    "\n",
    "if (bmi > 0) :\n",
    "    if (bmi < 18.5):\n",
    "        print(\"You are under weight\")\n",
    "    elif (bmi > 18.5 and bmi < 24.9) :\n",
    "        print(\"Your weight is normal\")\n",
    "    elif (bmi > 24.9):\n",
    "        print(\"You are over weight\")\n",
    "else :\n",
    "    print(\"Enter correct values!\")\n",
    "\n",
    "\n",
    "        "
   ]
  },
  {
   "cell_type": "code",
   "execution_count": null,
   "id": "bd5b83b1-5c1a-4b36-b9b3-120793ca5e97",
   "metadata": {},
   "outputs": [],
   "source": []
  }
 ],
 "metadata": {
  "kernelspec": {
   "display_name": "Python 3 (ipykernel)",
   "language": "python",
   "name": "python3"
  },
  "language_info": {
   "codemirror_mode": {
    "name": "ipython",
    "version": 3
   },
   "file_extension": ".py",
   "mimetype": "text/x-python",
   "name": "python",
   "nbconvert_exporter": "python",
   "pygments_lexer": "ipython3",
   "version": "3.13.1"
  }
 },
 "nbformat": 4,
 "nbformat_minor": 5
}
