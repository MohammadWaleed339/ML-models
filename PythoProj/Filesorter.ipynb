{
 "cells": [
  {
   "cell_type": "code",
   "execution_count": 4,
   "id": "3c32a1c9-287b-45ac-bfb9-47aad4e3add0",
   "metadata": {},
   "outputs": [],
   "source": [
    "import os, shutil"
   ]
  },
  {
   "cell_type": "code",
   "execution_count": 5,
   "id": "2d2e87fc-1716-4ecf-abbe-5d116c41f8c7",
   "metadata": {},
   "outputs": [],
   "source": [
    "path = r\"C:/Users/HP/Desktop/ds_1071/\""
   ]
  },
  {
   "cell_type": "code",
   "execution_count": 8,
   "id": "19de65d9-dd05-487c-8f70-fb155cfebe22",
   "metadata": {},
   "outputs": [],
   "source": [
    "os.listdir(path)\n",
    "folder = ['pdf file', 'text file', 'latex file']\n",
    "\n",
    "for loop in range(0,3):          # loop to check if those folders exists \n",
    "   if not os.path.exists(path + folder[loop]):\n",
    "        os.makedirs(path+folder[loop])  #makes folder if it doesn't"
   ]
  },
  {
   "cell_type": "code",
   "execution_count": 45,
   "id": "40c04152-3946-463d-9ed6-b4b94dd96f30",
   "metadata": {},
   "outputs": [],
   "source": [
    "# chk if file is in dir and not in folder\n",
    "#shutil moves that file on to the created folder\n",
    "\n",
    "dir_file = os.listdir(path)\n",
    "\n",
    "for file in dir_file :\n",
    "    if \".tex\" in file and not os.path.exists(path+\"latex file/\"+file):\n",
    "        shutil.move(path+file, path+\"latex file/\"+file)\n",
    "    if \".pdf\" in file and not os.path.exists(path+\"pdf file/\"+file):\n",
    "        shutil.move(path+file, path+\"pdf file/\"+file)\n",
    "    if \".txt\" in file and not os.path.exists(path+\"text file/\"+file):\n",
    "        shutil.move(path+file, path+\"text file/\"+file)"
   ]
  },
  {
   "cell_type": "code",
   "execution_count": null,
   "id": "db4be328-b458-4c82-8709-3d58e1f8c1e4",
   "metadata": {},
   "outputs": [],
   "source": []
  },
  {
   "cell_type": "code",
   "execution_count": null,
   "id": "13ff2942-6ea4-412a-a1b3-e860e9040b75",
   "metadata": {},
   "outputs": [],
   "source": []
  },
  {
   "cell_type": "code",
   "execution_count": null,
   "id": "a2123e30-4d32-4a17-a6da-4ca0e809972f",
   "metadata": {},
   "outputs": [],
   "source": []
  },
  {
   "cell_type": "code",
   "execution_count": null,
   "id": "253137f3-3c24-415e-8dfb-1a234a2a4f18",
   "metadata": {},
   "outputs": [],
   "source": []
  }
 ],
 "metadata": {
  "kernelspec": {
   "display_name": "Python 3 (ipykernel)",
   "language": "python",
   "name": "python3"
  },
  "language_info": {
   "codemirror_mode": {
    "name": "ipython",
    "version": 3
   },
   "file_extension": ".py",
   "mimetype": "text/x-python",
   "name": "python",
   "nbconvert_exporter": "python",
   "pygments_lexer": "ipython3",
   "version": "3.13.1"
  }
 },
 "nbformat": 4,
 "nbformat_minor": 5
}
