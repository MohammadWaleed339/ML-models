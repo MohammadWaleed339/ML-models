{
 "cells": [
  {
   "cell_type": "code",
   "execution_count": 1,
   "id": "3c32a1c9-287b-45ac-bfb9-47aad4e3add0",
   "metadata": {},
   "outputs": [
    {
     "name": "stdout",
     "output_type": "stream",
     "text": [
      "numpy imported\n"
     ]
    }
   ],
   "source": [
    "import numpy as np\n",
    "print(\"numpy imported\")"
   ]
  }
 ],
 "metadata": {
  "kernelspec": {
   "display_name": "Python 3 (ipykernel)",
   "language": "python",
   "name": "python3"
  },
  "language_info": {
   "codemirror_mode": {
    "name": "ipython",
    "version": 3
   },
   "file_extension": ".py",
   "mimetype": "text/x-python",
   "name": "python",
   "nbconvert_exporter": "python",
   "pygments_lexer": "ipython3",
   "version": "3.13.1"
  }
 },
 "nbformat": 4,
 "nbformat_minor": 5
}
