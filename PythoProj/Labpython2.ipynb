{
 "cells": [
  {
   "cell_type": "markdown",
   "id": "cc7a4bfa-984a-4a4c-bf60-0267cca218af",
   "metadata": {},
   "source": [
    "# Funtion for segregation of even and add numbers\n",
    "## (1) Using fixed argument"
   ]
  },
  {
   "cell_type": "code",
   "execution_count": 2,
   "id": "98f0add2-0f8b-41d2-9bdb-e20becb445af",
   "metadata": {},
   "outputs": [
    {
     "name": "stdout",
     "output_type": "stream",
     "text": [
      "even numbers are [2, 24, 3534, 64, 2] and odds are [3, 545, 5, 7]\n"
     ]
    }
   ],
   "source": [
    "def segreg(x):\n",
    "    even = []\n",
    "    odd = []\n",
    "    for i in x:\n",
    "        if i%2 == 0:\n",
    "            even.append(i)\n",
    "        else:\n",
    "            odd.append(i)\n",
    "    print(f\"even numbers are {even} and odds are {odd}\")\n",
    "segreg([2,3,24,3534,545,64,5,7,2])"
   ]
  },
  {
   "cell_type": "markdown",
   "id": "fc982415-0578-46c5-9bdf-cc22315cce63",
   "metadata": {},
   "source": [
    "## (2) Using variable argument"
   ]
  },
  {
   "cell_type": "code",
   "execution_count": null,
   "id": "3a24fbb6-4439-49bf-9a04-e53a1dd1e90a",
   "metadata": {},
   "outputs": [],
   "source": [
    "def segreg(#x):\n",
    "    even = []\n",
    "    odd = []\n",
    "    for i in x:\n",
    "        if i%2 == 0:\n",
    "            even.append(i)\n",
    "        else:\n",
    "            odd.append(i)\n",
    "    print(f\"even numbers are {even} and odds are {odd}\")\n",
    "segreg([2,3,24,3534,545,64,5,7,2])"
   ]
  }
 ],
 "metadata": {
  "kernelspec": {
   "display_name": "Python 3 (ipykernel)",
   "language": "python",
   "name": "python3"
  },
  "language_info": {
   "codemirror_mode": {
    "name": "ipython",
    "version": 3
   },
   "file_extension": ".py",
   "mimetype": "text/x-python",
   "name": "python",
   "nbconvert_exporter": "python",
   "pygments_lexer": "ipython3",
   "version": "3.13.1"
  }
 },
 "nbformat": 4,
 "nbformat_minor": 5
}
